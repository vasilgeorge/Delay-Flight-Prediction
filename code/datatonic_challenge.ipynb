{
 "cells": [
  {
   "cell_type": "code",
   "execution_count": 1,
   "metadata": {},
   "outputs": [],
   "source": [
    "import numpy as np\n",
    "import pandas as pd\n",
    "import sklearn"
   ]
  },
  {
   "cell_type": "markdown",
   "metadata": {},
   "source": [
    "Now that we have made all the imports we gonna.."
   ]
  },
  {
   "cell_type": "code",
   "execution_count": 3,
   "metadata": {},
   "outputs": [
    {
     "name": "stdout",
     "output_type": "stream",
     "text": [
      "         Date Airline  Airline_code Arrival_airport Arrival_state  \\\n",
      "0  2003-04-05      EV         20366             SHV            LA   \n",
      "1  2006-04-10      YV         20378             CLT            NC   \n",
      "2  2006-04-05      YV         20378             CLT            NC   \n",
      "3  2006-01-12      YV         20378             CLT            NC   \n",
      "4  2006-01-05      YV         20378             CLT            NC   \n",
      "\n",
      "  Departure_Airport Departure_State  Departure_actual  Departure_delay  \\\n",
      "0               MOB              AL              1820              -10   \n",
      "1               MGM              AL              1613              -10   \n",
      "2               MGM              AL              1615               -8   \n",
      "3               MGM              AL              1620               -3   \n",
      "4               MGM              AL              1614                0   \n",
      "\n",
      "   Arrival_actual  Arrival_delay  Arrival_schedule  Departure_schedule  \\\n",
      "0            2048             30              2018                1830   \n",
      "1            1833             -9              1842                1623   \n",
      "2            1825            -17              1842                1623   \n",
      "3            1840              1              1839                1623   \n",
      "4            1840             10              1830                1614   \n",
      "\n",
      "   DC_Longitude  DC_Latitude  Longitude  Latitude     Route  Path_order  \n",
      "0        -88.24        30.69     -88.24     30.69  AL to LA           1  \n",
      "1        -86.39        32.30     -86.39     32.30  AL to NC           1  \n",
      "2        -86.39        32.30     -86.39     32.30  AL to NC           1  \n",
      "3        -86.39        32.30     -86.39     32.30  AL to NC           1  \n",
      "4        -86.39        32.30     -86.39     32.30  AL to NC           1  \n"
     ]
    }
   ],
   "source": [
    "normal_data = pd.read_csv('/Users/vasilgeorge/Documents/Datatonic Data Challenge/data/flights_small.csv')\n",
    "\n",
    "print (normal_data.head(5))"
   ]
  },
  {
   "cell_type": "markdown",
   "metadata": {},
   "source": [
    "We now want to detect any anomalies that might exist in our dataset"
   ]
  },
  {
   "cell_type": "code",
   "execution_count": 4,
   "metadata": {},
   "outputs": [
    {
     "data": {
      "text/html": [
       "<div>\n",
       "<style scoped>\n",
       "    .dataframe tbody tr th:only-of-type {\n",
       "        vertical-align: middle;\n",
       "    }\n",
       "\n",
       "    .dataframe tbody tr th {\n",
       "        vertical-align: top;\n",
       "    }\n",
       "\n",
       "    .dataframe thead th {\n",
       "        text-align: right;\n",
       "    }\n",
       "</style>\n",
       "<table border=\"1\" class=\"dataframe\">\n",
       "  <thead>\n",
       "    <tr style=\"text-align: right;\">\n",
       "      <th></th>\n",
       "      <th>Airline_code</th>\n",
       "      <th>Departure_actual</th>\n",
       "      <th>Departure_delay</th>\n",
       "      <th>Arrival_actual</th>\n",
       "      <th>Arrival_delay</th>\n",
       "      <th>Arrival_schedule</th>\n",
       "      <th>Departure_schedule</th>\n",
       "      <th>DC_Longitude</th>\n",
       "      <th>DC_Latitude</th>\n",
       "      <th>Longitude</th>\n",
       "      <th>Latitude</th>\n",
       "      <th>Path_order</th>\n",
       "    </tr>\n",
       "  </thead>\n",
       "  <tbody>\n",
       "    <tr>\n",
       "      <th>count</th>\n",
       "      <td>100000.000000</td>\n",
       "      <td>100000.000000</td>\n",
       "      <td>100000.000000</td>\n",
       "      <td>100000.000000</td>\n",
       "      <td>100000.000000</td>\n",
       "      <td>100000.000000</td>\n",
       "      <td>100000.000000</td>\n",
       "      <td>100000.000000</td>\n",
       "      <td>100000.000000</td>\n",
       "      <td>100000.000000</td>\n",
       "      <td>100000.000000</td>\n",
       "      <td>100000.0</td>\n",
       "    </tr>\n",
       "    <tr>\n",
       "      <th>mean</th>\n",
       "      <td>20107.987560</td>\n",
       "      <td>1321.480030</td>\n",
       "      <td>7.101480</td>\n",
       "      <td>1474.252330</td>\n",
       "      <td>4.983180</td>\n",
       "      <td>1481.637740</td>\n",
       "      <td>1316.376930</td>\n",
       "      <td>-93.641310</td>\n",
       "      <td>36.892385</td>\n",
       "      <td>-93.641310</td>\n",
       "      <td>36.892385</td>\n",
       "      <td>1.0</td>\n",
       "    </tr>\n",
       "    <tr>\n",
       "      <th>std</th>\n",
       "      <td>348.397732</td>\n",
       "      <td>476.695954</td>\n",
       "      <td>28.895134</td>\n",
       "      <td>491.533272</td>\n",
       "      <td>31.955826</td>\n",
       "      <td>475.366186</td>\n",
       "      <td>465.210279</td>\n",
       "      <td>16.093128</td>\n",
       "      <td>4.972927</td>\n",
       "      <td>16.093128</td>\n",
       "      <td>4.972927</td>\n",
       "      <td>0.0</td>\n",
       "    </tr>\n",
       "    <tr>\n",
       "      <th>min</th>\n",
       "      <td>19386.000000</td>\n",
       "      <td>1.000000</td>\n",
       "      <td>-32.000000</td>\n",
       "      <td>1.000000</td>\n",
       "      <td>-83.000000</td>\n",
       "      <td>1.000000</td>\n",
       "      <td>9.000000</td>\n",
       "      <td>-159.330000</td>\n",
       "      <td>18.430000</td>\n",
       "      <td>-159.330000</td>\n",
       "      <td>18.430000</td>\n",
       "      <td>1.0</td>\n",
       "    </tr>\n",
       "    <tr>\n",
       "      <th>25%</th>\n",
       "      <td>19790.000000</td>\n",
       "      <td>915.000000</td>\n",
       "      <td>-5.000000</td>\n",
       "      <td>1052.000000</td>\n",
       "      <td>-11.000000</td>\n",
       "      <td>1057.000000</td>\n",
       "      <td>915.000000</td>\n",
       "      <td>-106.600000</td>\n",
       "      <td>33.630000</td>\n",
       "      <td>-106.600000</td>\n",
       "      <td>33.630000</td>\n",
       "      <td>1.0</td>\n",
       "    </tr>\n",
       "    <tr>\n",
       "      <th>50%</th>\n",
       "      <td>20355.000000</td>\n",
       "      <td>1318.000000</td>\n",
       "      <td>-1.000000</td>\n",
       "      <td>1506.000000</td>\n",
       "      <td>-3.000000</td>\n",
       "      <td>1510.000000</td>\n",
       "      <td>1315.000000</td>\n",
       "      <td>-87.900000</td>\n",
       "      <td>37.500000</td>\n",
       "      <td>-87.900000</td>\n",
       "      <td>37.500000</td>\n",
       "      <td>1.0</td>\n",
       "    </tr>\n",
       "    <tr>\n",
       "      <th>75%</th>\n",
       "      <td>20374.000000</td>\n",
       "      <td>1722.000000</td>\n",
       "      <td>5.000000</td>\n",
       "      <td>1859.000000</td>\n",
       "      <td>9.000000</td>\n",
       "      <td>1855.000000</td>\n",
       "      <td>1715.000000</td>\n",
       "      <td>-81.300000</td>\n",
       "      <td>40.630000</td>\n",
       "      <td>-81.300000</td>\n",
       "      <td>40.630000</td>\n",
       "      <td>1.0</td>\n",
       "    </tr>\n",
       "    <tr>\n",
       "      <th>max</th>\n",
       "      <td>21171.000000</td>\n",
       "      <td>2400.000000</td>\n",
       "      <td>947.000000</td>\n",
       "      <td>2400.000000</td>\n",
       "      <td>948.000000</td>\n",
       "      <td>2359.000000</td>\n",
       "      <td>2359.000000</td>\n",
       "      <td>-66.000000</td>\n",
       "      <td>47.450000</td>\n",
       "      <td>-66.000000</td>\n",
       "      <td>47.450000</td>\n",
       "      <td>1.0</td>\n",
       "    </tr>\n",
       "  </tbody>\n",
       "</table>\n",
       "</div>"
      ],
      "text/plain": [
       "        Airline_code  Departure_actual  Departure_delay  Arrival_actual  \\\n",
       "count  100000.000000     100000.000000    100000.000000   100000.000000   \n",
       "mean    20107.987560       1321.480030         7.101480     1474.252330   \n",
       "std       348.397732        476.695954        28.895134      491.533272   \n",
       "min     19386.000000          1.000000       -32.000000        1.000000   \n",
       "25%     19790.000000        915.000000        -5.000000     1052.000000   \n",
       "50%     20355.000000       1318.000000        -1.000000     1506.000000   \n",
       "75%     20374.000000       1722.000000         5.000000     1859.000000   \n",
       "max     21171.000000       2400.000000       947.000000     2400.000000   \n",
       "\n",
       "       Arrival_delay  Arrival_schedule  Departure_schedule   DC_Longitude  \\\n",
       "count  100000.000000     100000.000000       100000.000000  100000.000000   \n",
       "mean        4.983180       1481.637740         1316.376930     -93.641310   \n",
       "std        31.955826        475.366186          465.210279      16.093128   \n",
       "min       -83.000000          1.000000            9.000000    -159.330000   \n",
       "25%       -11.000000       1057.000000          915.000000    -106.600000   \n",
       "50%        -3.000000       1510.000000         1315.000000     -87.900000   \n",
       "75%         9.000000       1855.000000         1715.000000     -81.300000   \n",
       "max       948.000000       2359.000000         2359.000000     -66.000000   \n",
       "\n",
       "         DC_Latitude      Longitude       Latitude  Path_order  \n",
       "count  100000.000000  100000.000000  100000.000000    100000.0  \n",
       "mean       36.892385     -93.641310      36.892385         1.0  \n",
       "std         4.972927      16.093128       4.972927         0.0  \n",
       "min        18.430000    -159.330000      18.430000         1.0  \n",
       "25%        33.630000    -106.600000      33.630000         1.0  \n",
       "50%        37.500000     -87.900000      37.500000         1.0  \n",
       "75%        40.630000     -81.300000      40.630000         1.0  \n",
       "max        47.450000     -66.000000      47.450000         1.0  "
      ]
     },
     "execution_count": 4,
     "metadata": {},
     "output_type": "execute_result"
    }
   ],
   "source": [
    "normal_data.describe()"
   ]
  },
  {
   "cell_type": "markdown",
   "metadata": {},
   "source": [
    "We first have to split the date in day, month and year in order to later use them as features."
   ]
  },
  {
   "cell_type": "code",
   "execution_count": 7,
   "metadata": {},
   "outputs": [
    {
     "ename": "AttributeError",
     "evalue": "'DataFrame' object has no attribute 'Date'",
     "output_type": "error",
     "traceback": [
      "\u001b[0;31m---------------------------------------------------------------------------\u001b[0m",
      "\u001b[0;31mAttributeError\u001b[0m                            Traceback (most recent call last)",
      "\u001b[0;32m<ipython-input-7-f7b819760c2d>\u001b[0m in \u001b[0;36m<module>\u001b[0;34m()\u001b[0m\n\u001b[0;32m----> 1\u001b[0;31m \u001b[0mnormal_data\u001b[0m\u001b[0;34m[\u001b[0m\u001b[0;34m'Year'\u001b[0m\u001b[0;34m]\u001b[0m\u001b[0;34m=\u001b[0m\u001b[0;34m[\u001b[0m\u001b[0md\u001b[0m\u001b[0;34m.\u001b[0m\u001b[0msplit\u001b[0m\u001b[0;34m(\u001b[0m\u001b[0;34m'-'\u001b[0m\u001b[0;34m)\u001b[0m\u001b[0;34m[\u001b[0m\u001b[0;36m0\u001b[0m\u001b[0;34m]\u001b[0m \u001b[0;32mfor\u001b[0m \u001b[0md\u001b[0m \u001b[0;32min\u001b[0m \u001b[0mnormal_data\u001b[0m\u001b[0;34m.\u001b[0m\u001b[0mDate\u001b[0m\u001b[0;34m]\u001b[0m\u001b[0;34m\u001b[0m\u001b[0m\n\u001b[0m\u001b[1;32m      2\u001b[0m \u001b[0mnormal_data\u001b[0m\u001b[0;34m[\u001b[0m\u001b[0;34m'Month'\u001b[0m\u001b[0;34m]\u001b[0m\u001b[0;34m=\u001b[0m\u001b[0;34m[\u001b[0m\u001b[0md\u001b[0m\u001b[0;34m.\u001b[0m\u001b[0msplit\u001b[0m\u001b[0;34m(\u001b[0m\u001b[0;34m'-'\u001b[0m\u001b[0;34m)\u001b[0m\u001b[0;34m[\u001b[0m\u001b[0;36m1\u001b[0m\u001b[0;34m]\u001b[0m \u001b[0;32mfor\u001b[0m \u001b[0md\u001b[0m \u001b[0;32min\u001b[0m \u001b[0mnormal_data\u001b[0m\u001b[0;34m.\u001b[0m\u001b[0mDate\u001b[0m\u001b[0;34m]\u001b[0m\u001b[0;34m\u001b[0m\u001b[0m\n\u001b[1;32m      3\u001b[0m \u001b[0mnormal_data\u001b[0m\u001b[0;34m[\u001b[0m\u001b[0;34m'Day'\u001b[0m\u001b[0;34m]\u001b[0m\u001b[0;34m=\u001b[0m\u001b[0;34m[\u001b[0m\u001b[0md\u001b[0m\u001b[0;34m.\u001b[0m\u001b[0msplit\u001b[0m\u001b[0;34m(\u001b[0m\u001b[0;34m'-'\u001b[0m\u001b[0;34m)\u001b[0m\u001b[0;34m[\u001b[0m\u001b[0;36m2\u001b[0m\u001b[0;34m]\u001b[0m \u001b[0;32mfor\u001b[0m \u001b[0md\u001b[0m \u001b[0;32min\u001b[0m \u001b[0mnormal_data\u001b[0m\u001b[0;34m.\u001b[0m\u001b[0mDate\u001b[0m\u001b[0;34m]\u001b[0m\u001b[0;34m\u001b[0m\u001b[0m\n\u001b[1;32m      4\u001b[0m \u001b[0mnormal_data\u001b[0m\u001b[0;34m.\u001b[0m\u001b[0mdrop\u001b[0m\u001b[0;34m(\u001b[0m\u001b[0;34m'Date'\u001b[0m\u001b[0;34m,\u001b[0m \u001b[0minplace\u001b[0m\u001b[0;34m=\u001b[0m\u001b[0;32mTrue\u001b[0m\u001b[0;34m,\u001b[0m \u001b[0maxis\u001b[0m\u001b[0;34m=\u001b[0m\u001b[0;36m1\u001b[0m\u001b[0;34m)\u001b[0m\u001b[0;34m\u001b[0m\u001b[0m\n\u001b[1;32m      5\u001b[0m \u001b[0mprint\u001b[0m \u001b[0;34m(\u001b[0m\u001b[0mnormal_data\u001b[0m\u001b[0;34m.\u001b[0m\u001b[0mhead\u001b[0m\u001b[0;34m(\u001b[0m\u001b[0;36m1\u001b[0m\u001b[0;34m)\u001b[0m\u001b[0;34m)\u001b[0m\u001b[0;34m\u001b[0m\u001b[0m\n",
      "\u001b[0;32m/Library/Frameworks/Python.framework/Versions/3.6/lib/python3.6/site-packages/pandas/core/generic.py\u001b[0m in \u001b[0;36m__getattr__\u001b[0;34m(self, name)\u001b[0m\n\u001b[1;32m   3612\u001b[0m             \u001b[0;32mif\u001b[0m \u001b[0mname\u001b[0m \u001b[0;32min\u001b[0m \u001b[0mself\u001b[0m\u001b[0;34m.\u001b[0m\u001b[0m_info_axis\u001b[0m\u001b[0;34m:\u001b[0m\u001b[0;34m\u001b[0m\u001b[0m\n\u001b[1;32m   3613\u001b[0m                 \u001b[0;32mreturn\u001b[0m \u001b[0mself\u001b[0m\u001b[0;34m[\u001b[0m\u001b[0mname\u001b[0m\u001b[0;34m]\u001b[0m\u001b[0;34m\u001b[0m\u001b[0m\n\u001b[0;32m-> 3614\u001b[0;31m             \u001b[0;32mreturn\u001b[0m \u001b[0mobject\u001b[0m\u001b[0;34m.\u001b[0m\u001b[0m__getattribute__\u001b[0m\u001b[0;34m(\u001b[0m\u001b[0mself\u001b[0m\u001b[0;34m,\u001b[0m \u001b[0mname\u001b[0m\u001b[0;34m)\u001b[0m\u001b[0;34m\u001b[0m\u001b[0m\n\u001b[0m\u001b[1;32m   3615\u001b[0m \u001b[0;34m\u001b[0m\u001b[0m\n\u001b[1;32m   3616\u001b[0m     \u001b[0;32mdef\u001b[0m \u001b[0m__setattr__\u001b[0m\u001b[0;34m(\u001b[0m\u001b[0mself\u001b[0m\u001b[0;34m,\u001b[0m \u001b[0mname\u001b[0m\u001b[0;34m,\u001b[0m \u001b[0mvalue\u001b[0m\u001b[0;34m)\u001b[0m\u001b[0;34m:\u001b[0m\u001b[0;34m\u001b[0m\u001b[0m\n",
      "\u001b[0;31mAttributeError\u001b[0m: 'DataFrame' object has no attribute 'Date'"
     ]
    }
   ],
   "source": [
    "normal_data['Year']=[d.split('-')[0] for d in normal_data.Date]\n",
    "normal_data['Month']=[d.split('-')[1] for d in normal_data.Date]\n",
    "normal_data['Day']=[d.split('-')[2] for d in normal_data.Date]\n",
    "normal_data.drop('Date', inplace=True, axis=1)\n",
    "print (normal_data.head(1))"
   ]
  },
  {
   "cell_type": "markdown",
   "metadata": {},
   "source": [
    "Calculate distance using haversine formula"
   ]
  },
  {
   "cell_type": "code",
   "execution_count": null,
   "metadata": {},
   "outputs": [
    {
     "name": "stderr",
     "output_type": "stream",
     "text": [
      "/Library/Frameworks/Python.framework/Versions/3.6/lib/python3.6/site-packages/pandas/core/indexing.py:194: SettingWithCopyWarning: \n",
      "A value is trying to be set on a copy of a slice from a DataFrame\n",
      "\n",
      "See the caveats in the documentation: http://pandas.pydata.org/pandas-docs/stable/indexing.html#indexing-view-versus-copy\n",
      "  self._setitem_with_indexer(indexer, value)\n"
     ]
    }
   ],
   "source": [
    "import math\n",
    "from math import cos, asin, sqrt\n",
    "\n",
    "def distance(lat1, lon1, lat2, lon2):\n",
    "    p = math.pi/180\n",
    "    a = 0.5 - cos((lat2 - lat1) * p)/2 + cos(lat1 * p) * cos(lat2 * p) * (1 - cos((lon2 - lon1) * p)) / 2\n",
    "    return 12742 * asin(sqrt(a))\n",
    "\n",
    "coordinates = {}\n",
    "normal_data['Distance'] = 0\n",
    "for i in range(normal_data.shape[0]):\n",
    "    coordinates[normal_data['Departure_State'].iloc[i]] = (normal_data['Longitude'].iloc[i], normal_data['Latitude'].iloc[i])\n",
    "\n",
    "for i in range(normal_data.shape[0]):\n",
    "    lat1 = normal_data['Latitude'].iloc[i]\n",
    "    lon1 = normal_data['Longitude'].iloc[i]\n",
    "    lat2 = coordinates[normal_data['Departure_State'].iloc[i]][1]\n",
    "    lon2 =  coordinates[normal_data['Departure_State'].iloc[i]][0]\n",
    "    \n",
    "    normal_data['Distance'].loc[i] = distance(lat1, lon1, lat2, lon2) "
   ]
  },
  {
   "cell_type": "markdown",
   "metadata": {},
   "source": [
    "We first have to get rid of all the features that we are not going to use"
   ]
  },
  {
   "cell_type": "code",
   "execution_count": null,
   "metadata": {},
   "outputs": [],
   "source": [
    "normal_data.drop('Airline', inplace=True, axis=1)\n",
    "normal_data.drop('Departure_State', inplace=True, axis=1)\n",
    "normal_data.drop('Arrival_state', inplace=True, axis=1)\n",
    "normal_data.drop('Departure_actual', inplace=True, axis=1)\n",
    "normal_data.drop('Arrival_actual', inplace=True, axis=1)\n",
    "normal_data.drop('DC_Longitude', inplace=True, axis=1)\n",
    "normal_data.drop('DC_Latitude', inplace=True, axis=1)\n",
    "normal_data.drop('Longitude', inplace=True, axis=1)\n",
    "normal_data.drop('Latitude', inplace=True, axis=1)\n",
    "normal_data.drop('Route', inplace=True, axis=1)\n",
    "normal_data.drop('Path_order', inplace=True, axis=1)"
   ]
  },
  {
   "cell_type": "markdown",
   "metadata": {},
   "source": [
    "Now we have to one hot encode all categorical values"
   ]
  },
  {
   "cell_type": "code",
   "execution_count": null,
   "metadata": {},
   "outputs": [],
   "source": [
    "normal_data = pd.get_dummies(normal_data, columns=['Arrival_airport', 'Departure_Airport'])\n",
    "\n",
    "normal_data.head(1)"
   ]
  },
  {
   "cell_type": "code",
   "execution_count": null,
   "metadata": {},
   "outputs": [],
   "source": [
    "normal_data.iloc[:,:].head(1)"
   ]
  },
  {
   "cell_type": "markdown",
   "metadata": {},
   "source": [
    "Features and targets and convert them to numpy arrays - First I have to add weather features"
   ]
  },
  {
   "cell_type": "code",
   "execution_count": null,
   "metadata": {},
   "outputs": [],
   "source": [
    "labels = np.array(normal_data['Arrival_delay'])\n",
    "features = normal_data.drop('Arrival_delay', axis=1)\n",
    "feature_list = list(features.columns)\n",
    "features = np.array(features)"
   ]
  },
  {
   "cell_type": "markdown",
   "metadata": {},
   "source": [
    "Split the dataset into training and testing dataset"
   ]
  },
  {
   "cell_type": "code",
   "execution_count": null,
   "metadata": {},
   "outputs": [],
   "source": [
    "from sklearn.model_selection import train_test_split\n",
    "train_features, test_features, train_labels, test_labels = train_test_split(features, labels, test_size=0.25,\n",
    "                                                                           random_state=42)"
   ]
  },
  {
   "cell_type": "markdown",
   "metadata": {},
   "source": [
    "We can look at the shape of the data to make sure that everything was fine."
   ]
  },
  {
   "cell_type": "code",
   "execution_count": null,
   "metadata": {},
   "outputs": [],
   "source": [
    "print('Training Features Shape:', train_features.shape)\n",
    "print('Training Labels Shape:', train_labels.shape)\n",
    "print('Testing Features Shape:', test_features.shape)\n",
    "print('Testing Labels Shape:', test_labels.shape)"
   ]
  },
  {
   "cell_type": "markdown",
   "metadata": {},
   "source": [
    "Train the model"
   ]
  },
  {
   "cell_type": "code",
   "execution_count": null,
   "metadata": {},
   "outputs": [],
   "source": [
    "from sklearn.ensemble import RandomForestRegressor\n",
    "\n",
    "rf = RandomForestRegressor(n_estimators=1000, random_state=42)\n",
    "\n",
    "rf.fit(train_features, train_labels)"
   ]
  },
  {
   "cell_type": "markdown",
   "metadata": {},
   "source": [
    "Make predictions on the dataset."
   ]
  },
  {
   "cell_type": "code",
   "execution_count": null,
   "metadata": {},
   "outputs": [],
   "source": [
    "predictions = rf.predict(test_features)\n",
    "\n",
    "errors = abs(predictions-test_labels)\n",
    "\n",
    "print('Mean Absolute Error:', round(np.mean(errors), 2), 'minutes.')"
   ]
  },
  {
   "cell_type": "markdown",
   "metadata": {},
   "source": [
    "Determine performance metrics"
   ]
  },
  {
   "cell_type": "code",
   "execution_count": null,
   "metadata": {},
   "outputs": [],
   "source": [
    "average_test_label = np.average(test_labels)\n",
    "mape = 100 * (errors / average_test_label)\n",
    "accuracy = abs(100 - np.mean(mape))\n",
    "print('Accuracy:', round(accuracy, 2), '%.')"
   ]
  },
  {
   "cell_type": "markdown",
   "metadata": {},
   "source": [
    "Variable importances"
   ]
  },
  {
   "cell_type": "code",
   "execution_count": null,
   "metadata": {},
   "outputs": [],
   "source": [
    "importances = list(rf.feature_importances_)\n",
    "feature_importances = [(feature, round(importance, 2)) for feature, importance in zip(feature_list, importances)]\n",
    "feature_importances = sorted(feature_importances, key = lambda x: x[1], reverse = True)\n",
    "[print('Variable: {:20} Importance: {}'.format(*pair)) for pair in feature_importances];"
   ]
  },
  {
   "cell_type": "code",
   "execution_count": null,
   "metadata": {},
   "outputs": [],
   "source": []
  }
 ],
 "metadata": {
  "kernelspec": {
   "display_name": "Python 3",
   "language": "python",
   "name": "python3"
  },
  "language_info": {
   "codemirror_mode": {
    "name": "ipython",
    "version": 3
   },
   "file_extension": ".py",
   "mimetype": "text/x-python",
   "name": "python",
   "nbconvert_exporter": "python",
   "pygments_lexer": "ipython3",
   "version": "3.6.3"
  }
 },
 "nbformat": 4,
 "nbformat_minor": 2
}
