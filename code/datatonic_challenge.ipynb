{
 "cells": [
  {
   "cell_type": "markdown",
   "metadata": {},
   "source": [
    " #  Flight Delay Prediction using Random Forest"
   ]
  },
  {
   "cell_type": "markdown",
   "metadata": {},
   "source": [
    "## Problem introduction\n",
    "\n",
    "The problem we will tackle is predicting the arrival delay of a flight. We are going to face it as a Regression problem, in which our goal is to predict the exact delay of a flight in minutes."
   ]
  },
  {
   "cell_type": "code",
   "execution_count": 1,
   "metadata": {},
   "outputs": [],
   "source": [
    "import numpy as np\n",
    "import pandas as pd\n",
    "import sklearn"
   ]
  },
  {
   "cell_type": "markdown",
   "metadata": {},
   "source": [
    "The following code loads in the csv data and displays the structure of the data."
   ]
  },
  {
   "cell_type": "code",
   "execution_count": 2,
   "metadata": {},
   "outputs": [
    {
     "name": "stdout",
     "output_type": "stream",
     "text": [
      "         Date Airline  Airline_code Arrival_airport Arrival_state  \\\n",
      "0  2003-04-05      EV         20366             SHV            LA   \n",
      "1  2006-04-10      YV         20378             CLT            NC   \n",
      "2  2006-04-05      YV         20378             CLT            NC   \n",
      "3  2006-01-12      YV         20378             CLT            NC   \n",
      "4  2006-01-05      YV         20378             CLT            NC   \n",
      "\n",
      "  Departure_Airport Departure_State  Departure_actual  Departure_delay  \\\n",
      "0               MOB              AL              1820              -10   \n",
      "1               MGM              AL              1613              -10   \n",
      "2               MGM              AL              1615               -8   \n",
      "3               MGM              AL              1620               -3   \n",
      "4               MGM              AL              1614                0   \n",
      "\n",
      "   Arrival_actual  Arrival_delay  Arrival_schedule  Departure_schedule  \\\n",
      "0            2048             30              2018                1830   \n",
      "1            1833             -9              1842                1623   \n",
      "2            1825            -17              1842                1623   \n",
      "3            1840              1              1839                1623   \n",
      "4            1840             10              1830                1614   \n",
      "\n",
      "   DC_Longitude  DC_Latitude  Longitude  Latitude     Route  Path_order  \n",
      "0        -88.24        30.69     -88.24     30.69  AL to LA           1  \n",
      "1        -86.39        32.30     -86.39     32.30  AL to NC           1  \n",
      "2        -86.39        32.30     -86.39     32.30  AL to NC           1  \n",
      "3        -86.39        32.30     -86.39     32.30  AL to NC           1  \n",
      "4        -86.39        32.30     -86.39     32.30  AL to NC           1  \n"
     ]
    }
   ],
   "source": [
    "normal_data = pd.read_csv('/Users/vasilgeorge/Documents/Datatonic Data Challenge/data/flights_small.csv')\n",
    "\n",
    "print (normal_data.head(5))"
   ]
  },
  {
   "cell_type": "markdown",
   "metadata": {},
   "source": [
    "## Identify anomalies in the data\n",
    "\n",
    "To identify anomalies, we can quickly compute summary statistics."
   ]
  },
  {
   "cell_type": "code",
   "execution_count": 3,
   "metadata": {},
   "outputs": [
    {
     "data": {
      "text/html": [
       "<div>\n",
       "<style scoped>\n",
       "    .dataframe tbody tr th:only-of-type {\n",
       "        vertical-align: middle;\n",
       "    }\n",
       "\n",
       "    .dataframe tbody tr th {\n",
       "        vertical-align: top;\n",
       "    }\n",
       "\n",
       "    .dataframe thead th {\n",
       "        text-align: right;\n",
       "    }\n",
       "</style>\n",
       "<table border=\"1\" class=\"dataframe\">\n",
       "  <thead>\n",
       "    <tr style=\"text-align: right;\">\n",
       "      <th></th>\n",
       "      <th>Airline_code</th>\n",
       "      <th>Departure_actual</th>\n",
       "      <th>Departure_delay</th>\n",
       "      <th>Arrival_actual</th>\n",
       "      <th>Arrival_delay</th>\n",
       "      <th>Arrival_schedule</th>\n",
       "      <th>Departure_schedule</th>\n",
       "      <th>DC_Longitude</th>\n",
       "      <th>DC_Latitude</th>\n",
       "      <th>Longitude</th>\n",
       "      <th>Latitude</th>\n",
       "      <th>Path_order</th>\n",
       "    </tr>\n",
       "  </thead>\n",
       "  <tbody>\n",
       "    <tr>\n",
       "      <th>count</th>\n",
       "      <td>100000.000000</td>\n",
       "      <td>100000.000000</td>\n",
       "      <td>100000.000000</td>\n",
       "      <td>100000.000000</td>\n",
       "      <td>100000.000000</td>\n",
       "      <td>100000.000000</td>\n",
       "      <td>100000.000000</td>\n",
       "      <td>100000.000000</td>\n",
       "      <td>100000.000000</td>\n",
       "      <td>100000.000000</td>\n",
       "      <td>100000.000000</td>\n",
       "      <td>100000.0</td>\n",
       "    </tr>\n",
       "    <tr>\n",
       "      <th>mean</th>\n",
       "      <td>20107.987560</td>\n",
       "      <td>1321.480030</td>\n",
       "      <td>7.101480</td>\n",
       "      <td>1474.252330</td>\n",
       "      <td>4.983180</td>\n",
       "      <td>1481.637740</td>\n",
       "      <td>1316.376930</td>\n",
       "      <td>-93.641310</td>\n",
       "      <td>36.892385</td>\n",
       "      <td>-93.641310</td>\n",
       "      <td>36.892385</td>\n",
       "      <td>1.0</td>\n",
       "    </tr>\n",
       "    <tr>\n",
       "      <th>std</th>\n",
       "      <td>348.397732</td>\n",
       "      <td>476.695954</td>\n",
       "      <td>28.895134</td>\n",
       "      <td>491.533272</td>\n",
       "      <td>31.955826</td>\n",
       "      <td>475.366186</td>\n",
       "      <td>465.210279</td>\n",
       "      <td>16.093128</td>\n",
       "      <td>4.972927</td>\n",
       "      <td>16.093128</td>\n",
       "      <td>4.972927</td>\n",
       "      <td>0.0</td>\n",
       "    </tr>\n",
       "    <tr>\n",
       "      <th>min</th>\n",
       "      <td>19386.000000</td>\n",
       "      <td>1.000000</td>\n",
       "      <td>-32.000000</td>\n",
       "      <td>1.000000</td>\n",
       "      <td>-83.000000</td>\n",
       "      <td>1.000000</td>\n",
       "      <td>9.000000</td>\n",
       "      <td>-159.330000</td>\n",
       "      <td>18.430000</td>\n",
       "      <td>-159.330000</td>\n",
       "      <td>18.430000</td>\n",
       "      <td>1.0</td>\n",
       "    </tr>\n",
       "    <tr>\n",
       "      <th>25%</th>\n",
       "      <td>19790.000000</td>\n",
       "      <td>915.000000</td>\n",
       "      <td>-5.000000</td>\n",
       "      <td>1052.000000</td>\n",
       "      <td>-11.000000</td>\n",
       "      <td>1057.000000</td>\n",
       "      <td>915.000000</td>\n",
       "      <td>-106.600000</td>\n",
       "      <td>33.630000</td>\n",
       "      <td>-106.600000</td>\n",
       "      <td>33.630000</td>\n",
       "      <td>1.0</td>\n",
       "    </tr>\n",
       "    <tr>\n",
       "      <th>50%</th>\n",
       "      <td>20355.000000</td>\n",
       "      <td>1318.000000</td>\n",
       "      <td>-1.000000</td>\n",
       "      <td>1506.000000</td>\n",
       "      <td>-3.000000</td>\n",
       "      <td>1510.000000</td>\n",
       "      <td>1315.000000</td>\n",
       "      <td>-87.900000</td>\n",
       "      <td>37.500000</td>\n",
       "      <td>-87.900000</td>\n",
       "      <td>37.500000</td>\n",
       "      <td>1.0</td>\n",
       "    </tr>\n",
       "    <tr>\n",
       "      <th>75%</th>\n",
       "      <td>20374.000000</td>\n",
       "      <td>1722.000000</td>\n",
       "      <td>5.000000</td>\n",
       "      <td>1859.000000</td>\n",
       "      <td>9.000000</td>\n",
       "      <td>1855.000000</td>\n",
       "      <td>1715.000000</td>\n",
       "      <td>-81.300000</td>\n",
       "      <td>40.630000</td>\n",
       "      <td>-81.300000</td>\n",
       "      <td>40.630000</td>\n",
       "      <td>1.0</td>\n",
       "    </tr>\n",
       "    <tr>\n",
       "      <th>max</th>\n",
       "      <td>21171.000000</td>\n",
       "      <td>2400.000000</td>\n",
       "      <td>947.000000</td>\n",
       "      <td>2400.000000</td>\n",
       "      <td>948.000000</td>\n",
       "      <td>2359.000000</td>\n",
       "      <td>2359.000000</td>\n",
       "      <td>-66.000000</td>\n",
       "      <td>47.450000</td>\n",
       "      <td>-66.000000</td>\n",
       "      <td>47.450000</td>\n",
       "      <td>1.0</td>\n",
       "    </tr>\n",
       "  </tbody>\n",
       "</table>\n",
       "</div>"
      ],
      "text/plain": [
       "        Airline_code  Departure_actual  Departure_delay  Arrival_actual  \\\n",
       "count  100000.000000     100000.000000    100000.000000   100000.000000   \n",
       "mean    20107.987560       1321.480030         7.101480     1474.252330   \n",
       "std       348.397732        476.695954        28.895134      491.533272   \n",
       "min     19386.000000          1.000000       -32.000000        1.000000   \n",
       "25%     19790.000000        915.000000        -5.000000     1052.000000   \n",
       "50%     20355.000000       1318.000000        -1.000000     1506.000000   \n",
       "75%     20374.000000       1722.000000         5.000000     1859.000000   \n",
       "max     21171.000000       2400.000000       947.000000     2400.000000   \n",
       "\n",
       "       Arrival_delay  Arrival_schedule  Departure_schedule   DC_Longitude  \\\n",
       "count  100000.000000     100000.000000       100000.000000  100000.000000   \n",
       "mean        4.983180       1481.637740         1316.376930     -93.641310   \n",
       "std        31.955826        475.366186          465.210279      16.093128   \n",
       "min       -83.000000          1.000000            9.000000    -159.330000   \n",
       "25%       -11.000000       1057.000000          915.000000    -106.600000   \n",
       "50%        -3.000000       1510.000000         1315.000000     -87.900000   \n",
       "75%         9.000000       1855.000000         1715.000000     -81.300000   \n",
       "max       948.000000       2359.000000         2359.000000     -66.000000   \n",
       "\n",
       "         DC_Latitude      Longitude       Latitude  Path_order  \n",
       "count  100000.000000  100000.000000  100000.000000    100000.0  \n",
       "mean       36.892385     -93.641310      36.892385         1.0  \n",
       "std         4.972927      16.093128       4.972927         0.0  \n",
       "min        18.430000    -159.330000      18.430000         1.0  \n",
       "25%        33.630000    -106.600000      33.630000         1.0  \n",
       "50%        37.500000     -87.900000      37.500000         1.0  \n",
       "75%        40.630000     -81.300000      40.630000         1.0  \n",
       "max        47.450000     -66.000000      47.450000         1.0  "
      ]
     },
     "execution_count": 3,
     "metadata": {},
     "output_type": "execute_result"
    }
   ],
   "source": [
    "normal_data.describe()"
   ]
  },
  {
   "cell_type": "markdown",
   "metadata": {},
   "source": [
    "## Data Preparation"
   ]
  },
  {
   "cell_type": "markdown",
   "metadata": {},
   "source": [
    "In order to use the data we have for training, we first have to bring some of the features into a form recognizable by the computer. At first, we split the 'Date' column into 'Year', 'Month' and 'Day'."
   ]
  },
  {
   "cell_type": "code",
   "execution_count": 4,
   "metadata": {},
   "outputs": [
    {
     "name": "stdout",
     "output_type": "stream",
     "text": [
      "  Airline  Airline_code Arrival_airport Arrival_state Departure_Airport  \\\n",
      "0      EV         20366             SHV            LA               MOB   \n",
      "\n",
      "  Departure_State  Departure_actual  Departure_delay  Arrival_actual  \\\n",
      "0              AL              1820              -10            2048   \n",
      "\n",
      "   Arrival_delay ...  Departure_schedule  DC_Longitude  DC_Latitude  \\\n",
      "0             30 ...                1830        -88.24        30.69   \n",
      "\n",
      "   Longitude  Latitude     Route Path_order  Year Month Day  \n",
      "0     -88.24     30.69  AL to LA          1  2003    04  05  \n",
      "\n",
      "[1 rows x 21 columns]\n"
     ]
    }
   ],
   "source": [
    "normal_data['Year']=[d.split('-')[0] for d in normal_data.Date]\n",
    "normal_data['Month']=[d.split('-')[1] for d in normal_data.Date]\n",
    "normal_data['Day']=[d.split('-')[2] for d in normal_data.Date]\n",
    "normal_data.drop('Date', inplace=True, axis=1)\n",
    "print (normal_data.head(1))"
   ]
  },
  {
   "cell_type": "markdown",
   "metadata": {},
   "source": [
    "At this point, we realize that we can compute the distance between two airports, since we have the longitude and latitude of each airport. We can do this by using the haversine distance. After we have computed this distance, we can add this distance as a new feature that is going to be used for training."
   ]
  },
  {
   "cell_type": "code",
   "execution_count": 5,
   "metadata": {},
   "outputs": [
    {
     "name": "stderr",
     "output_type": "stream",
     "text": [
      "/Library/Frameworks/Python.framework/Versions/3.6/lib/python3.6/site-packages/pandas/core/indexing.py:194: SettingWithCopyWarning: \n",
      "A value is trying to be set on a copy of a slice from a DataFrame\n",
      "\n",
      "See the caveats in the documentation: http://pandas.pydata.org/pandas-docs/stable/indexing.html#indexing-view-versus-copy\n",
      "  self._setitem_with_indexer(indexer, value)\n"
     ]
    }
   ],
   "source": [
    "import math\n",
    "from math import cos, asin, sqrt\n",
    "\n",
    "def distance(lat1, lon1, lat2, lon2):\n",
    "    p = math.pi/180\n",
    "    a = 0.5 - cos((lat2 - lat1) * p)/2 + cos(lat1 * p) * cos(lat2 * p) * (1 - cos((lon2 - lon1) * p)) / 2\n",
    "    return 12742 * asin(sqrt(a))\n",
    "\n",
    "coordinates = {}\n",
    "normal_data['Distance'] = 0\n",
    "for i in range(normal_data.shape[0]):\n",
    "    coordinates[normal_data['Departure_State'].iloc[i]] = (normal_data['Longitude'].iloc[i], normal_data['Latitude'].iloc[i])\n",
    "\n",
    "for i in range(normal_data.shape[0]):\n",
    "    lat1 = normal_data['Latitude'].iloc[i]\n",
    "    lon1 = normal_data['Longitude'].iloc[i]\n",
    "    lat2 = coordinates[normal_data['Departure_State'].iloc[i]][1]\n",
    "    lon2 =  coordinates[normal_data['Departure_State'].iloc[i]][0]\n",
    "    \n",
    "    normal_data['Distance'].loc[i] = distance(lat1, lon1, lat2, lon2) "
   ]
  },
  {
   "cell_type": "markdown",
   "metadata": {},
   "source": [
    "At this point we are going to get rid of all the features that we are not going to use in the training of the Random Forest."
   ]
  },
  {
   "cell_type": "code",
   "execution_count": 6,
   "metadata": {},
   "outputs": [],
   "source": [
    "normal_data.drop('Airline', inplace=True, axis=1)\n",
    "normal_data.drop('Departure_State', inplace=True, axis=1)\n",
    "normal_data.drop('Arrival_state', inplace=True, axis=1)\n",
    "normal_data.drop('Departure_actual', inplace=True, axis=1)\n",
    "normal_data.drop('Arrival_actual', inplace=True, axis=1)\n",
    "normal_data.drop('DC_Longitude', inplace=True, axis=1)\n",
    "normal_data.drop('DC_Latitude', inplace=True, axis=1)\n",
    "normal_data.drop('Longitude', inplace=True, axis=1)\n",
    "normal_data.drop('Latitude', inplace=True, axis=1)\n",
    "normal_data.drop('Route', inplace=True, axis=1)\n",
    "normal_data.drop('Path_order', inplace=True, axis=1)"
   ]
  },
  {
   "cell_type": "markdown",
   "metadata": {},
   "source": [
    "At this step we have to one-hot encode our data. This process takes categorical variables, such as days of the week and converts it to a numerical representation without an arbitrary ordering. In our example, we are going to one-hot encode the 'Arrival airport' and 'Departure airport' features."
   ]
  },
  {
   "cell_type": "code",
   "execution_count": 7,
   "metadata": {},
   "outputs": [
    {
     "data": {
      "text/html": [
       "<div>\n",
       "<style scoped>\n",
       "    .dataframe tbody tr th:only-of-type {\n",
       "        vertical-align: middle;\n",
       "    }\n",
       "\n",
       "    .dataframe tbody tr th {\n",
       "        vertical-align: top;\n",
       "    }\n",
       "\n",
       "    .dataframe thead th {\n",
       "        text-align: right;\n",
       "    }\n",
       "</style>\n",
       "<table border=\"1\" class=\"dataframe\">\n",
       "  <thead>\n",
       "    <tr style=\"text-align: right;\">\n",
       "      <th></th>\n",
       "      <th>Airline_code</th>\n",
       "      <th>Departure_delay</th>\n",
       "      <th>Arrival_delay</th>\n",
       "      <th>Arrival_schedule</th>\n",
       "      <th>Departure_schedule</th>\n",
       "      <th>Year</th>\n",
       "      <th>Month</th>\n",
       "      <th>Day</th>\n",
       "      <th>Distance</th>\n",
       "      <th>Arrival_airport_ATL</th>\n",
       "      <th>...</th>\n",
       "      <th>Departure_Airport_SFO</th>\n",
       "      <th>Departure_Airport_SJU</th>\n",
       "      <th>Departure_Airport_SLC</th>\n",
       "      <th>Departure_Airport_SNA</th>\n",
       "      <th>Departure_Airport_SRQ</th>\n",
       "      <th>Departure_Airport_STL</th>\n",
       "      <th>Departure_Airport_TPA</th>\n",
       "      <th>Departure_Airport_TUL</th>\n",
       "      <th>Departure_Airport_TUS</th>\n",
       "      <th>Departure_Airport_XNA</th>\n",
       "    </tr>\n",
       "  </thead>\n",
       "  <tbody>\n",
       "    <tr>\n",
       "      <th>0</th>\n",
       "      <td>20366</td>\n",
       "      <td>-10</td>\n",
       "      <td>30</td>\n",
       "      <td>2018</td>\n",
       "      <td>1830</td>\n",
       "      <td>2003</td>\n",
       "      <td>04</td>\n",
       "      <td>05</td>\n",
       "      <td>250.623108</td>\n",
       "      <td>0</td>\n",
       "      <td>...</td>\n",
       "      <td>0</td>\n",
       "      <td>0</td>\n",
       "      <td>0</td>\n",
       "      <td>0</td>\n",
       "      <td>0</td>\n",
       "      <td>0</td>\n",
       "      <td>0</td>\n",
       "      <td>0</td>\n",
       "      <td>0</td>\n",
       "      <td>0</td>\n",
       "    </tr>\n",
       "  </tbody>\n",
       "</table>\n",
       "<p>1 rows × 127 columns</p>\n",
       "</div>"
      ],
      "text/plain": [
       "   Airline_code  Departure_delay  Arrival_delay  Arrival_schedule  \\\n",
       "0         20366              -10             30              2018   \n",
       "\n",
       "   Departure_schedule  Year Month Day    Distance  Arrival_airport_ATL  \\\n",
       "0                1830  2003    04  05  250.623108                    0   \n",
       "\n",
       "           ...            Departure_Airport_SFO  Departure_Airport_SJU  \\\n",
       "0          ...                                0                      0   \n",
       "\n",
       "   Departure_Airport_SLC  Departure_Airport_SNA  Departure_Airport_SRQ  \\\n",
       "0                      0                      0                      0   \n",
       "\n",
       "   Departure_Airport_STL  Departure_Airport_TPA  Departure_Airport_TUL  \\\n",
       "0                      0                      0                      0   \n",
       "\n",
       "   Departure_Airport_TUS  Departure_Airport_XNA  \n",
       "0                      0                      0  \n",
       "\n",
       "[1 rows x 127 columns]"
      ]
     },
     "execution_count": 7,
     "metadata": {},
     "output_type": "execute_result"
    }
   ],
   "source": [
    "normal_data = pd.get_dummies(normal_data, columns=['Arrival_airport', 'Departure_Airport'])\n",
    "\n",
    "normal_data.head(1)"
   ]
  },
  {
   "cell_type": "code",
   "execution_count": 24,
   "metadata": {},
   "outputs": [
    {
     "data": {
      "text/html": [
       "<div>\n",
       "<style scoped>\n",
       "    .dataframe tbody tr th:only-of-type {\n",
       "        vertical-align: middle;\n",
       "    }\n",
       "\n",
       "    .dataframe tbody tr th {\n",
       "        vertical-align: top;\n",
       "    }\n",
       "\n",
       "    .dataframe thead th {\n",
       "        text-align: right;\n",
       "    }\n",
       "</style>\n",
       "<table border=\"1\" class=\"dataframe\">\n",
       "  <thead>\n",
       "    <tr style=\"text-align: right;\">\n",
       "      <th></th>\n",
       "      <th>Airline_code</th>\n",
       "      <th>Departure_delay</th>\n",
       "      <th>Arrival_delay</th>\n",
       "      <th>Arrival_schedule</th>\n",
       "      <th>Departure_schedule</th>\n",
       "      <th>Year</th>\n",
       "      <th>Month</th>\n",
       "      <th>Day</th>\n",
       "      <th>Distance</th>\n",
       "      <th>Arrival_airport_ATL</th>\n",
       "      <th>...</th>\n",
       "      <th>Departure_Airport_SFO</th>\n",
       "      <th>Departure_Airport_SJU</th>\n",
       "      <th>Departure_Airport_SLC</th>\n",
       "      <th>Departure_Airport_SNA</th>\n",
       "      <th>Departure_Airport_SRQ</th>\n",
       "      <th>Departure_Airport_STL</th>\n",
       "      <th>Departure_Airport_TPA</th>\n",
       "      <th>Departure_Airport_TUL</th>\n",
       "      <th>Departure_Airport_TUS</th>\n",
       "      <th>Departure_Airport_XNA</th>\n",
       "    </tr>\n",
       "  </thead>\n",
       "  <tbody>\n",
       "    <tr>\n",
       "      <th>0</th>\n",
       "      <td>20366</td>\n",
       "      <td>-10</td>\n",
       "      <td>30</td>\n",
       "      <td>2018</td>\n",
       "      <td>1830</td>\n",
       "      <td>2003</td>\n",
       "      <td>04</td>\n",
       "      <td>05</td>\n",
       "      <td>250.623108</td>\n",
       "      <td>0</td>\n",
       "      <td>...</td>\n",
       "      <td>0</td>\n",
       "      <td>0</td>\n",
       "      <td>0</td>\n",
       "      <td>0</td>\n",
       "      <td>0</td>\n",
       "      <td>0</td>\n",
       "      <td>0</td>\n",
       "      <td>0</td>\n",
       "      <td>0</td>\n",
       "      <td>0</td>\n",
       "    </tr>\n",
       "  </tbody>\n",
       "</table>\n",
       "<p>1 rows × 127 columns</p>\n",
       "</div>"
      ],
      "text/plain": [
       "   Airline_code  Departure_delay  Arrival_delay  Arrival_schedule  \\\n",
       "0         20366              -10             30              2018   \n",
       "\n",
       "   Departure_schedule  Year Month Day    Distance  Arrival_airport_ATL  \\\n",
       "0                1830  2003    04  05  250.623108                    0   \n",
       "\n",
       "           ...            Departure_Airport_SFO  Departure_Airport_SJU  \\\n",
       "0          ...                                0                      0   \n",
       "\n",
       "   Departure_Airport_SLC  Departure_Airport_SNA  Departure_Airport_SRQ  \\\n",
       "0                      0                      0                      0   \n",
       "\n",
       "   Departure_Airport_STL  Departure_Airport_TPA  Departure_Airport_TUL  \\\n",
       "0                      0                      0                      0   \n",
       "\n",
       "   Departure_Airport_TUS  Departure_Airport_XNA  \n",
       "0                      0                      0  \n",
       "\n",
       "[1 rows x 127 columns]"
      ]
     },
     "execution_count": 24,
     "metadata": {},
     "output_type": "execute_result"
    }
   ],
   "source": [
    "#Verify that the one-hot encoding was correct.\n",
    "normal_data.iloc[:,:].head(1)"
   ]
  },
  {
   "cell_type": "markdown",
   "metadata": {},
   "source": [
    "## Features and Targets and Convert Data to Arrays\n",
    "\n",
    "Now we need to separate the data into features and targets. The target, also known as the label, is the value we want to predict, in this case the actual arrival delay and the features are all the columns the model uses to make a prediction."
   ]
  },
  {
   "cell_type": "code",
   "execution_count": 9,
   "metadata": {},
   "outputs": [],
   "source": [
    "labels = np.array(normal_data['Arrival_delay'])\n",
    "features = normal_data.drop('Arrival_delay', axis=1)\n",
    "feature_list = list(features.columns)\n",
    "features = np.array(features)"
   ]
  },
  {
   "cell_type": "markdown",
   "metadata": {},
   "source": [
    "At this step we split our dataset into training and testing dataset. The training dataset is used to train the random forest model, while we are using the testing dataset to evaluate the performance of the model."
   ]
  },
  {
   "cell_type": "code",
   "execution_count": 10,
   "metadata": {},
   "outputs": [],
   "source": [
    "from sklearn.model_selection import train_test_split\n",
    "train_features, test_features, train_labels, test_labels = train_test_split(features, labels, test_size=0.25,\n",
    "                                                                           random_state=42)"
   ]
  },
  {
   "cell_type": "markdown",
   "metadata": {},
   "source": [
    "We inspect the data to verify that the split was correct."
   ]
  },
  {
   "cell_type": "code",
   "execution_count": 11,
   "metadata": {},
   "outputs": [
    {
     "name": "stdout",
     "output_type": "stream",
     "text": [
      "Training Features Shape: (75000, 126)\n",
      "Training Labels Shape: (75000,)\n",
      "Testing Features Shape: (25000, 126)\n",
      "Testing Labels Shape: (25000,)\n"
     ]
    }
   ],
   "source": [
    "print('Training Features Shape:', train_features.shape)\n",
    "print('Training Labels Shape:', train_labels.shape)\n",
    "print('Testing Features Shape:', test_features.shape)\n",
    "print('Testing Labels Shape:', test_labels.shape)"
   ]
  },
  {
   "cell_type": "markdown",
   "metadata": {},
   "source": [
    "## Training\n",
    "\n",
    "After all the work of data preparation, creating and training the model is pretty simple using Scikit-learn. We import the random forest regression model from skicit-learn, instantiate the model, and fit (scikit-learn’s name for training) the model on the training data"
   ]
  },
  {
   "cell_type": "code",
   "execution_count": 12,
   "metadata": {},
   "outputs": [
    {
     "data": {
      "text/plain": [
       "RandomForestRegressor(bootstrap=True, criterion='mse', max_depth=None,\n",
       "           max_features='auto', max_leaf_nodes=None,\n",
       "           min_impurity_decrease=0.0, min_impurity_split=None,\n",
       "           min_samples_leaf=1, min_samples_split=2,\n",
       "           min_weight_fraction_leaf=0.0, n_estimators=1000, n_jobs=1,\n",
       "           oob_score=False, random_state=42, verbose=0, warm_start=False)"
      ]
     },
     "execution_count": 12,
     "metadata": {},
     "output_type": "execute_result"
    }
   ],
   "source": [
    "from sklearn.ensemble import RandomForestRegressor\n",
    "\n",
    "rf = RandomForestRegressor(n_estimators=1000, random_state=42)\n",
    "\n",
    "rf.fit(train_features, train_labels)"
   ]
  },
  {
   "cell_type": "markdown",
   "metadata": {},
   "source": [
    "## Make predictions\n",
    "\n",
    "Our model has now been trained to learn the relationships between the features and the targets. The next step is figuring out how good the model is. To do this we make predictions on the test features. We then compare the predictions to the known answers. When performing regression, we need to make sure to use the absolute error because we expect some of our answers to be low and some to be high. We are interested in how far away our average prediction is from the actual value so we take the absolute value . "
   ]
  },
  {
   "cell_type": "code",
   "execution_count": 13,
   "metadata": {},
   "outputs": [
    {
     "name": "stdout",
     "output_type": "stream",
     "text": [
      "Mean Absolute Error: 8.93 minutes.\n"
     ]
    }
   ],
   "source": [
    "predictions = rf.predict(test_features)\n",
    "\n",
    "errors = abs(predictions-test_labels)\n",
    "\n",
    "print('Mean Absolute Error:', round(np.mean(errors), 2), 'minutes.')"
   ]
  },
  {
   "cell_type": "markdown",
   "metadata": {},
   "source": [
    "## Determine performance metrics\n",
    "\n",
    "To put our predictions in perspective, we can calculate an accuracy using the mean average percentage error subtracted from 100 %."
   ]
  },
  {
   "cell_type": "code",
   "execution_count": 14,
   "metadata": {},
   "outputs": [
    {
     "name": "stdout",
     "output_type": "stream",
     "text": [
      "Accuracy: 73.31 %.\n"
     ]
    }
   ],
   "source": [
    "average_test_label = np.average(test_labels)\n",
    "mape = 100 * (errors / average_test_label)\n",
    "accuracy = abs(100 - np.mean(mape))\n",
    "print('Accuracy:', round(accuracy, 2), '%.')"
   ]
  },
  {
   "cell_type": "markdown",
   "metadata": {},
   "source": [
    "## Variable importances\n",
    "\n",
    "In order to quantify the usefulness of all the variables in the entire random forest, we can look at the relative importances of the variables. "
   ]
  },
  {
   "cell_type": "code",
   "execution_count": 15,
   "metadata": {},
   "outputs": [
    {
     "name": "stdout",
     "output_type": "stream",
     "text": [
      "Variable: Departure_delay      Importance: 0.84\n",
      "Variable: Arrival_schedule     Importance: 0.02\n",
      "Variable: Departure_schedule   Importance: 0.02\n",
      "Variable: Month                Importance: 0.02\n",
      "Variable: Day                  Importance: 0.02\n",
      "Variable: Airline_code         Importance: 0.01\n",
      "Variable: Year                 Importance: 0.01\n",
      "Variable: Distance             Importance: 0.0\n",
      "Variable: Arrival_airport_ATL  Importance: 0.0\n",
      "Variable: Arrival_airport_BOS  Importance: 0.0\n",
      "Variable: Arrival_airport_CLT  Importance: 0.0\n",
      "Variable: Arrival_airport_COU  Importance: 0.0\n",
      "Variable: Arrival_airport_CVG  Importance: 0.0\n",
      "Variable: Arrival_airport_CYS  Importance: 0.0\n",
      "Variable: Arrival_airport_DAB  Importance: 0.0\n",
      "Variable: Arrival_airport_DEN  Importance: 0.0\n",
      "Variable: Arrival_airport_PDX  Importance: 0.0\n",
      "Variable: Arrival_airport_PHL  Importance: 0.0\n",
      "Variable: Arrival_airport_PHX  Importance: 0.0\n",
      "Variable: Arrival_airport_PIT  Importance: 0.0\n",
      "Variable: Arrival_airport_PNS  Importance: 0.0\n",
      "Variable: Arrival_airport_SAN  Importance: 0.0\n",
      "Variable: Arrival_airport_SAV  Importance: 0.0\n",
      "Variable: Arrival_airport_SFO  Importance: 0.0\n",
      "Variable: Arrival_airport_SHV  Importance: 0.0\n",
      "Variable: Arrival_airport_SJT  Importance: 0.0\n",
      "Variable: Arrival_airport_TUL  Importance: 0.0\n",
      "Variable: Departure_Airport_ABE Importance: 0.0\n",
      "Variable: Departure_Airport_ABQ Importance: 0.0\n",
      "Variable: Departure_Airport_ACK Importance: 0.0\n",
      "Variable: Departure_Airport_ALB Importance: 0.0\n",
      "Variable: Departure_Airport_ATL Importance: 0.0\n",
      "Variable: Departure_Airport_AUS Importance: 0.0\n",
      "Variable: Departure_Airport_AVL Importance: 0.0\n",
      "Variable: Departure_Airport_BDL Importance: 0.0\n",
      "Variable: Departure_Airport_BIL Importance: 0.0\n",
      "Variable: Departure_Airport_BNA Importance: 0.0\n",
      "Variable: Departure_Airport_BOI Importance: 0.0\n",
      "Variable: Departure_Airport_BOS Importance: 0.0\n",
      "Variable: Departure_Airport_BUF Importance: 0.0\n",
      "Variable: Departure_Airport_BWI Importance: 0.0\n",
      "Variable: Departure_Airport_BZN Importance: 0.0\n",
      "Variable: Departure_Airport_CAE Importance: 0.0\n",
      "Variable: Departure_Airport_CHA Importance: 0.0\n",
      "Variable: Departure_Airport_CID Importance: 0.0\n",
      "Variable: Departure_Airport_CLE Importance: 0.0\n",
      "Variable: Departure_Airport_CLT Importance: 0.0\n",
      "Variable: Departure_Airport_CMH Importance: 0.0\n",
      "Variable: Departure_Airport_COS Importance: 0.0\n",
      "Variable: Departure_Airport_CPR Importance: 0.0\n",
      "Variable: Departure_Airport_CVG Importance: 0.0\n",
      "Variable: Departure_Airport_DAL Importance: 0.0\n",
      "Variable: Departure_Airport_DCA Importance: 0.0\n",
      "Variable: Departure_Airport_DEN Importance: 0.0\n",
      "Variable: Departure_Airport_DFW Importance: 0.0\n",
      "Variable: Departure_Airport_DTW Importance: 0.0\n",
      "Variable: Departure_Airport_EGE Importance: 0.0\n",
      "Variable: Departure_Airport_EUG Importance: 0.0\n",
      "Variable: Departure_Airport_EWR Importance: 0.0\n",
      "Variable: Departure_Airport_FLL Importance: 0.0\n",
      "Variable: Departure_Airport_FSD Importance: 0.0\n",
      "Variable: Departure_Airport_GRB Importance: 0.0\n",
      "Variable: Departure_Airport_GSO Importance: 0.0\n",
      "Variable: Departure_Airport_HNL Importance: 0.0\n",
      "Variable: Departure_Airport_HOU Importance: 0.0\n",
      "Variable: Departure_Airport_IAD Importance: 0.0\n",
      "Variable: Departure_Airport_IAH Importance: 0.0\n",
      "Variable: Departure_Airport_IDA Importance: 0.0\n",
      "Variable: Departure_Airport_IND Importance: 0.0\n",
      "Variable: Departure_Airport_ISP Importance: 0.0\n",
      "Variable: Departure_Airport_JAX Importance: 0.0\n",
      "Variable: Departure_Airport_JFK Importance: 0.0\n",
      "Variable: Departure_Airport_LAN Importance: 0.0\n",
      "Variable: Departure_Airport_LAS Importance: 0.0\n",
      "Variable: Departure_Airport_LAW Importance: 0.0\n",
      "Variable: Departure_Airport_LAX Importance: 0.0\n",
      "Variable: Departure_Airport_LGA Importance: 0.0\n",
      "Variable: Departure_Airport_LIH Importance: 0.0\n",
      "Variable: Departure_Airport_LNK Importance: 0.0\n",
      "Variable: Departure_Airport_MCI Importance: 0.0\n",
      "Variable: Departure_Airport_MCO Importance: 0.0\n",
      "Variable: Departure_Airport_MDT Importance: 0.0\n",
      "Variable: Departure_Airport_MDW Importance: 0.0\n",
      "Variable: Departure_Airport_MEM Importance: 0.0\n",
      "Variable: Departure_Airport_MGM Importance: 0.0\n",
      "Variable: Departure_Airport_MHT Importance: 0.0\n",
      "Variable: Departure_Airport_MIA Importance: 0.0\n",
      "Variable: Departure_Airport_MKE Importance: 0.0\n",
      "Variable: Departure_Airport_MLU Importance: 0.0\n",
      "Variable: Departure_Airport_MOB Importance: 0.0\n",
      "Variable: Departure_Airport_MSP Importance: 0.0\n",
      "Variable: Departure_Airport_MSY Importance: 0.0\n",
      "Variable: Departure_Airport_OAK Importance: 0.0\n",
      "Variable: Departure_Airport_OGG Importance: 0.0\n",
      "Variable: Departure_Airport_ORD Importance: 0.0\n",
      "Variable: Departure_Airport_ORF Importance: 0.0\n",
      "Variable: Departure_Airport_OTH Importance: 0.0\n",
      "Variable: Departure_Airport_PBI Importance: 0.0\n",
      "Variable: Departure_Airport_PDX Importance: 0.0\n",
      "Variable: Departure_Airport_PHF Importance: 0.0\n",
      "Variable: Departure_Airport_PHL Importance: 0.0\n",
      "Variable: Departure_Airport_PHX Importance: 0.0\n",
      "Variable: Departure_Airport_PIT Importance: 0.0\n",
      "Variable: Departure_Airport_PNS Importance: 0.0\n",
      "Variable: Departure_Airport_PSP Importance: 0.0\n",
      "Variable: Departure_Airport_PVD Importance: 0.0\n",
      "Variable: Departure_Airport_PWM Importance: 0.0\n",
      "Variable: Departure_Airport_RDU Importance: 0.0\n",
      "Variable: Departure_Airport_RIC Importance: 0.0\n",
      "Variable: Departure_Airport_ROC Importance: 0.0\n",
      "Variable: Departure_Airport_RSW Importance: 0.0\n",
      "Variable: Departure_Airport_SAN Importance: 0.0\n",
      "Variable: Departure_Airport_SAV Importance: 0.0\n",
      "Variable: Departure_Airport_SBN Importance: 0.0\n",
      "Variable: Departure_Airport_SDF Importance: 0.0\n",
      "Variable: Departure_Airport_SEA Importance: 0.0\n",
      "Variable: Departure_Airport_SFO Importance: 0.0\n",
      "Variable: Departure_Airport_SJU Importance: 0.0\n",
      "Variable: Departure_Airport_SLC Importance: 0.0\n",
      "Variable: Departure_Airport_SNA Importance: 0.0\n",
      "Variable: Departure_Airport_SRQ Importance: 0.0\n",
      "Variable: Departure_Airport_STL Importance: 0.0\n",
      "Variable: Departure_Airport_TPA Importance: 0.0\n",
      "Variable: Departure_Airport_TUL Importance: 0.0\n",
      "Variable: Departure_Airport_TUS Importance: 0.0\n",
      "Variable: Departure_Airport_XNA Importance: 0.0\n"
     ]
    }
   ],
   "source": [
    "importances = list(rf.feature_importances_)\n",
    "feature_importances = [(feature, round(importance, 2)) for feature, importance in zip(feature_list, importances)]\n",
    "feature_importances = sorted(feature_importances, key = lambda x: x[1], reverse = True)\n",
    "[print('Variable: {:20} Importance: {}'.format(*pair)) for pair in feature_importances];"
   ]
  },
  {
   "cell_type": "markdown",
   "metadata": {},
   "source": [
    "We can see that the most important feature by far is the departure delay. In our next step, we will try to train our Random Forest model without using the departure delay feature. As we can see, the results are disappointing."
   ]
  },
  {
   "cell_type": "code",
   "execution_count": 17,
   "metadata": {},
   "outputs": [
    {
     "name": "stdout",
     "output_type": "stream",
     "text": [
      "Mean Absolute Error: 3.3 minutes.\n",
      "Accuracy: 35.89 %.\n"
     ]
    }
   ],
   "source": [
    "features_rest = normal_data.drop('Arrival_delay', axis=1)\n",
    "features_rest = normal_data.drop('Departure_delay', axis=1)\n",
    "feature_list_rest = list(features_rest.columns)\n",
    "features_rest = np.array(features_rest)\n",
    "\n",
    "train_features_rest, test_features_rest, train_labels_rest, test_labels_rest = train_test_split(features_rest, labels, test_size=0.25,\n",
    "                                                                           random_state=42)\n",
    "\n",
    "rf_rest = RandomForestRegressor(n_estimators=1000, random_state=42)\n",
    "\n",
    "rf_rest.fit(train_features_rest, train_labels_rest)\n",
    "\n",
    "predictions_rest = rf.predict(test_features_rest)\n",
    "\n",
    "errors_rest = abs(predictions_rest-test_labels_rest)\n",
    "\n",
    "print('Mean Absolute Error:', round(np.mean(errors_rest), 2), 'minutes.')\n",
    "\n",
    "average_test_label_rest = np.average(test_labels_rest)\n",
    "mape_rest = 100 * (errors_rest / average_test_label_rest)\n",
    "accuracy_rest = abs(100 - np.mean(mape_rest))\n",
    "print('Accuracy:', round(accuracy_rest, 2), '%.')"
   ]
  },
  {
   "cell_type": "markdown",
   "metadata": {},
   "source": [
    "Now, we are going to use just the 5 most importan features to train the Random Forest, since out of the 126 features, only 7 of them had some weight. As a result, there is no point in using all of them."
   ]
  },
  {
   "cell_type": "code",
   "execution_count": 20,
   "metadata": {},
   "outputs": [
    {
     "name": "stdout",
     "output_type": "stream",
     "text": [
      "Mean Absolute Error: 9.3 minutes.\n",
      "Accuracy: 80.57 %.\n"
     ]
    }
   ],
   "source": [
    "features_imp = normal_data.drop('Arrival_delay', axis=1)\n",
    "features_imp = normal_data[['Departure_delay', 'Arrival_schedule', 'Departure_schedule', 'Month', 'Day']]\n",
    "feature_list_imp = list(features_imp.columns)\n",
    "features_imp = np.array(features_imp)\n",
    "\n",
    "train_features_imp, test_features_imp, train_labels_imp, test_labels_imp = train_test_split(features_imp, labels, test_size=0.25,\n",
    "                                                                           random_state=42)\n",
    "\n",
    "rf_imp = RandomForestRegressor(n_estimators=1000, random_state=42)\n",
    "\n",
    "rf_imp.fit(train_features_imp, train_labels_imp)\n",
    "\n",
    "predictions_imp = rf_imp.predict(test_features_imp)\n",
    "\n",
    "errors_imp = abs(predictions_imp-test_labels_imp)\n",
    "\n",
    "print('Mean Absolute Error:', round(np.mean(errors_imp), 2), 'minutes.')\n",
    "\n",
    "average_test_label_imp = np.average(test_labels_imp)\n",
    "mape_imp = 100 * (errors_imp / average_test_label_imp)\n",
    "accuracy_imp = abs(100 - np.mean(mape_imp))\n",
    "print('Accuracy:', round(accuracy_imp, 2), '%.')"
   ]
  },
  {
   "cell_type": "markdown",
   "metadata": {},
   "source": [
    "We can observe a rise in the accuracy when using only 5 of the features, compared to the case where we used all 126 features."
   ]
  },
  {
   "cell_type": "markdown",
   "metadata": {},
   "source": [
    "## Visualization\n",
    "\n",
    "The following chart is a simple bar plot of the 5 most important features in order to illustrate the disparities in the relative significance of the variables."
   ]
  },
  {
   "cell_type": "code",
   "execution_count": 25,
   "metadata": {},
   "outputs": [
    {
     "data": {
      "image/png": "[encoded data removed]",
      "text/plain": [
       "<matplotlib.figure.Figure at 0x33a35c0f0>"
      ]
     },
     "metadata": {},
     "output_type": "display_data"
    }
   ],
   "source": [
    "import matplotlib.pyplot as plt\n",
    "\n",
    "%matplotlib inline\n",
    "\n",
    "plt.style.use('fivethirtyeight')\n",
    "\n",
    "x_values = list(range(len(importances[:5])))\n",
    "plt.bar(x_values, importances[:5], orientation = 'vertical')\n",
    "plt.xticks(x_values, feature_list, rotation='vertical')\n",
    "plt.ylabel('Importance'); plt.xlabel('Variable'); \n",
    "plt.title('Variable Importances');"
   ]
  }
 ],
 "metadata": {
  "kernelspec": {
   "display_name": "Python 3",
   "language": "python",
   "name": "python3"
  },
  "language_info": {
   "codemirror_mode": {
    "name": "ipython",
    "version": 3
   },
   "file_extension": ".py",
   "mimetype": "text/x-python",
   "name": "python",
   "nbconvert_exporter": "python",
   "pygments_lexer": "ipython3",
   "version": "3.6.3"
  }
 },
 "nbformat": 4,
 "nbformat_minor": 2
}
